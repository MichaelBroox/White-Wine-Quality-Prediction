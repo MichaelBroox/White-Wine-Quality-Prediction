{
 "cells": [
  {
   "cell_type": "markdown",
   "metadata": {},
   "source": [
    "![AddictivePtyhon](AddictivePython.png)"
   ]
  },
  {
   "cell_type": "markdown",
   "metadata": {},
   "source": [
    "# EXPLORATORY DATA ANALYSIS & DATA PREPROCESSING"
   ]
  },
  {
   "cell_type": "markdown",
   "metadata": {},
   "source": [
    "### Importing Libraries"
   ]
  },
  {
   "cell_type": "code",
   "execution_count": null,
   "metadata": {},
   "outputs": [],
   "source": [
    "# %%writefile preprocessing.py\n",
    "\n",
    "#######################################\n",
    "#######################################\n",
    "# Importing the Libraries\n",
    "import pandas as pd\n",
    "import numpy as np\n",
    "import matplotlib.pyplot as plt\n",
    "\n",
    "# Importing seaborn for style and beauty\n",
    "import seaborn as sns\n",
    "\n",
    "plt.style.use('fivethirtyeight')\n",
    "\n",
    "# custom\n",
    "from custom import helper\n",
    "#######################################\n",
    "#######################################"
   ]
  },
  {
   "cell_type": "code",
   "execution_count": null,
   "metadata": {},
   "outputs": [],
   "source": [
    "#######################\n",
    "### Loading Dataset ###\n",
    "#######################\n",
    "\n",
    "raw_data = pd.read_csv(\"data/winequality-white.csv\", sep=';', index_col=None, encoding='ISO-8859-1', engine='python')\n",
    "# raw_data.head()\n",
    "\n",
    "# Creating a Copy of the Dataset\n",
    "df = raw_data.copy()\n",
    "# df.head()"
   ]
  },
  {
   "cell_type": "code",
   "execution_count": null,
   "metadata": {},
   "outputs": [],
   "source": [
    "###################################################\n",
    "### Creating Folders to keep figures and tables ###\n",
    "###################################################\n",
    "\n",
    "helper.create_folder('./csv_tables/')\n",
    "helper.create_folder('./figures/')"
   ]
  },
  {
   "cell_type": "code",
   "execution_count": null,
   "metadata": {},
   "outputs": [],
   "source": [
    "##################################################\n",
    "### Getting Statistical Summary of the Dataset ###\n",
    "##################################################\n",
    "\n",
    "data_description = df.describe(include='all', datetime_is_numeric=True)\n",
    "data_description.to_csv(\"csv_tables/data_description.csv\", index=False)\n",
    "# data_description"
   ]
  },
  {
   "cell_type": "code",
   "execution_count": null,
   "metadata": {},
   "outputs": [],
   "source": [
    "#################################################\n",
    "### Getting Column Names and their Data Types ###\n",
    "#################################################\n",
    "\n",
    "dataset_columns = pd.DataFrame({'column_names':list(df.columns)})\n",
    "\n",
    "data_types = []\n",
    "for column in df.columns:\n",
    "    dtype = str(df[column].dtype)\n",
    "    data_types.append(dtype)\n",
    "\n",
    "dataset_columns['data_type'] = data_types\n",
    "dataset_columns.to_csv(\"csv_tables/column_heads_of_dataset.csv\", index=True)\n",
    "# dataset_columns"
   ]
  },
  {
   "cell_type": "code",
   "execution_count": null,
   "metadata": {},
   "outputs": [],
   "source": [
    "###############################\n",
    "### Checking Missing Values ###\n",
    "###############################\n",
    "\n",
    "missing_values = helper.missing_data(df)\n",
    "missing_values.to_csv(\"csv_tables/missing_values.csv\", index=True)\n",
    "# missing_values"
   ]
  },
  {
   "cell_type": "code",
   "execution_count": null,
   "metadata": {},
   "outputs": [],
   "source": [
    "##################################\n",
    "### Removing Duplicated Values ###\n",
    "#################################\n",
    "\n",
    "df.drop_duplicates(keep='first', inplace=True)"
   ]
  },
  {
   "cell_type": "code",
   "execution_count": null,
   "metadata": {},
   "outputs": [],
   "source": [
    "#############################\n",
    "### Checking Outlier Info ###\n",
    "#############################\n",
    "\n",
    "outliers = helper.outlier_info(df)\n",
    "outliers.to_csv(\"csv_tables/outlier_info.csv\", index=True)\n",
    "# outliers"
   ]
  },
  {
   "cell_type": "code",
   "execution_count": null,
   "metadata": {},
   "outputs": [],
   "source": [
    "##########################\n",
    "### Detecting Outliers ###\n",
    "##########################\n",
    "\n",
    "helper.detect_outliers(\n",
    "    df.select_dtypes(np.number),\n",
    "    image_name='Outlier',\n",
    "    path='figures',\n",
    "    plot_size=(25, 10), \n",
    "    xticklabels_fontsize=15, \n",
    "    yticklabels_fontsize=15, \n",
    "    title_fontsize=22, \n",
    "    boxplot_xlabel_fontsize=18, \n",
    "    save=True, \n",
    "    dpi=600, \n",
    "    transparent=True\n",
    ")"
   ]
  },
  {
   "cell_type": "code",
   "execution_count": null,
   "metadata": {},
   "outputs": [],
   "source": [
    "#######################################\n",
    "### Correlation of Dataset Features ###\n",
    "#######################################\n",
    "\n",
    "helper.correlation_viz(\n",
    "    df.select_dtypes(np.number),\n",
    "    image_name='Data_Features_Correlation',\n",
    "    path='figures',\n",
    "    plot_size=(25, 40),\n",
    "    cor_bar_orient='vertical',\n",
    "    colormap=\"Blues\",\n",
    "    save=True,\n",
    "    dpi=600,\n",
    "    transparent=True,\n",
    ")"
   ]
  },
  {
   "cell_type": "code",
   "execution_count": null,
   "metadata": {},
   "outputs": [],
   "source": [
    "############################################\n",
    "### Distribution Plot of Target Variable ###\n",
    "############################################\n",
    "\n",
    "plt.figure(figsize=(15, 10), dpi=300)\n",
    "\n",
    "sns.distplot(df['quality'], color='darkorange', bins=30)\n",
    "plt.title('Distribution of quality', fontsize=22)\n",
    "\n",
    "plt.grid(color='grey')\n",
    "\n",
    "plt.savefig('figures/Distribution_Plot_of_quality.png', dpi=600, transparent=True)\n",
    "# plt.show()"
   ]
  },
  {
   "cell_type": "code",
   "execution_count": null,
   "metadata": {},
   "outputs": [],
   "source": [
    "#####################################\n",
    "### Count Plot of Target Variable ###\n",
    "#####################################\n",
    "\n",
    "def count_plot(column_name):\n",
    "\n",
    "    fig = plt.figure(figsize=(10, 8), dpi=300)\n",
    "\n",
    "    ax = df[column_name].value_counts().plot(\n",
    "        kind='bar', \n",
    "        rot=0, \n",
    "        color=['deepskyblue', 'dodgerblue', 'royalblue'], \n",
    "        edgecolor='darkorange', \n",
    "        linewidth=3,\n",
    "    )\n",
    "    \n",
    "    plt.title(column_name, fontsize=20, pad=16.5)\n",
    "    \n",
    "    for patch in ax.patches:\n",
    "        width = patch.get_width()\n",
    "        height = patch.get_height()\n",
    "        x, y = patch.get_xy()\n",
    "        ax.annotate(f'{height}', (x + width/2, y + height*1.02), ha='center')\n",
    "    \n",
    "    plt.xticks(fontsize=20)\n",
    "    \n",
    "    plt.grid(alpha=0.3, color='grey')\n",
    "    \n",
    "    \n",
    "    plt.savefig(f'figures/{column_name}_count_plot', dpi=600, transparent=True)\n",
    "#     plt.show()\n",
    "\n",
    "count_plot('quality')"
   ]
  },
  {
   "cell_type": "code",
   "execution_count": null,
   "metadata": {},
   "outputs": [],
   "source": [
    "#############################################\n",
    "### Creating Target Label for the Dataset ###\n",
    "#############################################\n",
    "\n",
    "mean_value_of_quality = df['quality'].mean()\n",
    "targets = np.where(df['quality'] > mean_value_of_quality, 1, 0)\n",
    "df['quality_rate'] = targets\n",
    "# df.head()"
   ]
  },
  {
   "cell_type": "code",
   "execution_count": null,
   "metadata": {},
   "outputs": [],
   "source": [
    "#################################################\n",
    "### Count Plot of the Created Target Variable ###\n",
    "#################################################\n",
    "\n",
    "count_plot('quality_rate')"
   ]
  },
  {
   "cell_type": "code",
   "execution_count": null,
   "metadata": {},
   "outputs": [],
   "source": [
    "##############################################\n",
    "### Feature Statistics per target variable ###\n",
    "##############################################\n",
    "\n",
    "features_mean_stats = df.groupby('quality_rate').mean()\n",
    "features_mean_stats.to_csv(\"csv_tables/features_mean_stats_per_target_variable.csv\", index=True)\n",
    "# features_mean_stats\n",
    "\n",
    "for col in list(features_mean_stats.columns.values):\n",
    "    subset = features_mean_stats[col]\n",
    "    \n",
    "    fig = plt.figure(figsize=(12, 8), dpi=300)\n",
    "    \n",
    "    ax = subset.plot(\n",
    "        kind='bar',\n",
    "        color=['#EF5350', '#FFE0B2'], \n",
    "        edgecolor='#F5F5F5', \n",
    "        linewidth=7,\n",
    "        rot=0,\n",
    "    )\n",
    "    \n",
    "    plt.title(f'Mean Value of {col.title()} per Target Label', fontsize=25, pad=20.5)\n",
    "    \n",
    "    plt.xticks(ticks=np.arange(len(subset)), labels=['Low Quality', 'High Quality'], fontsize=20)\n",
    "    \n",
    "    plt.grid(alpha=0.2, color='grey')\n",
    "    \n",
    "    for patch in ax.patches:\n",
    "        width = patch.get_width()\n",
    "        height = patch.get_height()\n",
    "        x, y = patch.get_xy()\n",
    "        ax.annotate(f'{round(height, 3)}', (x + width/2, y + height*1.02), ha='center')\n",
    "    \n",
    "    plt.savefig(f'figures/Mean Value of {col} per Target Label.png', dpi=600, transparent=True)\n",
    "#     plt.show()\n",
    "\n",
    "features_std_stats = df.groupby('quality_rate').std()\n",
    "\n",
    "features_std_stats.to_csv(\"csv_tables/features_std_stats_per_target_variable.csv\", index=True)\n",
    "features_std_stats"
   ]
  },
  {
   "cell_type": "code",
   "execution_count": null,
   "metadata": {},
   "outputs": [],
   "source": [
    "######################################################\n",
    "### Plot of Feature Statistics per Target Variable ###\n",
    "######################################################\n",
    "\n",
    "column_names = list(df.iloc[:, :11].columns.values)\n",
    "\n",
    "labels = ['high_rate', 'low_rate']\n",
    "\n",
    "colors = ['orange', 'cyan']\n",
    "\n",
    "for column_name in column_names:\n",
    "    \n",
    "    fig = plt.figure(figsize=(10, 6))\n",
    "\n",
    "\n",
    "    ax = sns.kdeplot(\n",
    "        df.loc[(df['quality_rate'] == 1), column_name], \n",
    "        color=colors[0], \n",
    "        shade=True, \n",
    "        label=labels[0],\n",
    "    )\n",
    "\n",
    "    ax = sns.kdeplot(\n",
    "        df.loc[(df['quality_rate'] == 0), column_name], \n",
    "        color=colors[1], \n",
    "        shade=True, \n",
    "        label=labels[1],\n",
    "    )\n",
    "\n",
    "    plt.title(f'{column_name} Distribution - high_rate vs. low_rate', fontsize=22)\n",
    "\n",
    "    plt.tick_params(top=False, bottom=True, left=True, right=False)\n",
    "\n",
    "    plt.legend(bbox_to_anchor=(1, 1), loc=\"upper left\", fontsize='x-small', frameon=True, shadow=True, fancybox=True)\n",
    "\n",
    "    plt.tight_layout()\n",
    "    \n",
    "    plt.savefig('figures/'+column_name+'Distribution of high_rate_low_rate_quality.png', dpi=600, transparent=True)\n",
    "#     plt.show()"
   ]
  },
  {
   "cell_type": "code",
   "execution_count": null,
   "metadata": {},
   "outputs": [],
   "source": [
    "###############################################\n",
    "### Creating a Copy of the modified Dataset ###\n",
    "###############################################\n",
    "\n",
    "df_modified = df.copy()\n",
    "# df_modified.head(15)"
   ]
  },
  {
   "cell_type": "code",
   "execution_count": null,
   "metadata": {},
   "outputs": [],
   "source": [
    "##########################################\n",
    "### Saving the Modified Dataset as csv ###\n",
    "##########################################\n",
    "\n",
    "df_modified.to_csv(\"data/preprocessed_data.csv\", index=False)"
   ]
  }
 ],
 "metadata": {
  "kernelspec": {
   "display_name": "Python 3",
   "language": "python",
   "name": "python3"
  },
  "language_info": {
   "codemirror_mode": {
    "name": "ipython",
    "version": 3
   },
   "file_extension": ".py",
   "mimetype": "text/x-python",
   "name": "python",
   "nbconvert_exporter": "python",
   "pygments_lexer": "ipython3",
   "version": "3.8.2"
  }
 },
 "nbformat": 4,
 "nbformat_minor": 4
}
